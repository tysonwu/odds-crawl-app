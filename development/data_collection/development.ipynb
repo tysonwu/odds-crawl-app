{
 "cells": [
  {
   "cell_type": "markdown",
   "metadata": {},
   "source": [
    "# HKJC Crawler Script\n",
    "\n",
    "- To monitor odd trend (specifically Corner HiLow), only for in play betting \n",
    "\n",
    "According to https://medium.com/@chris_whirlwind/web-scraping-football-match-odds-on-hk-jockey-club-7c605d0ab038"
   ]
  },
  {
   "cell_type": "code",
   "execution_count": 1,
   "metadata": {},
   "outputs": [],
   "source": [
    "from bs4 import BeautifulSoup\n",
    "import time\n",
    "from selenium import webdriver"
   ]
  },
  {
   "cell_type": "markdown",
   "metadata": {},
   "source": [
    "## Test connection\n",
    "\n",
    " - Download Chrome driver from https://sites.google.com/a/chromium.org/chromedriver/downloads\n",
    " - Put the driver executable file into the working directory"
   ]
  },
  {
   "cell_type": "code",
   "execution_count": 11,
   "metadata": {},
   "outputs": [],
   "source": [
    "driver = webdriver.Chrome('/Users/TysonWu/dev/odds-crawl/odds-crawl/chromedriver')\n",
    "driver.get('http://www.google.com/');\n",
    "time.sleep(5) # Let the user actually see something!\n",
    "search_box = driver.find_element_by_name('q')\n",
    "search_box.send_keys('ChromeDriver')\n",
    "search_box.submit()\n",
    "time.sleep(5) # Let the user actually see something!\n",
    "driver.quit()"
   ]
  },
  {
   "cell_type": "markdown",
   "metadata": {},
   "source": [
    "- Natvigate to bet url and copy the address, paste it onto input url\n",
    "- type the date, weekday, number"
   ]
  },
  {
   "cell_type": "code",
   "execution_count": 2,
   "metadata": {},
   "outputs": [],
   "source": [
    "#---------input-url---\n",
    "url = 'https://bet.hkjc.com/football/odds/odds_allodds.aspx?lang=EN&tmatchid=8f455de2-e486-4c17-945d-44c4bf942d01'\n",
    "date = '20200212' #YYYYmmdd format\n",
    "weekday = 'SUN' # capitalized letter please\n",
    "number = '32' # event number\n",
    "game_starting_time = '20200210 03:45' #YYYYmmdd HH:MM format\n",
    "#--------------------\n",
    "event_id = date+weekday+number"
   ]
  },
  {
   "cell_type": "markdown",
   "metadata": {},
   "source": [
    "### Reference\n",
    "\n",
    "get div according to div id and div class by selenium:\n",
    "\n",
    "https://stackoverflow.com/questions/36615472/how-to-find-element-in-selenium-python-using-id-and-class-in-div\n",
    "https://stackoverflow.com/questions/29807856/selenium-python-how-to-get-texthtml-source-from-div\n",
    "\n",
    "get content inside span, remove tags:\n",
    "\n",
    "https://stackoverflow.com/questions/42175190/get-value-of-span-tag-using-beautifulsoup/42175359"
   ]
  },
  {
   "cell_type": "code",
   "execution_count": 50,
   "metadata": {},
   "outputs": [
    {
     "name": "stdout",
     "output_type": "stream",
     "text": [
      "Error finding attribute. This is mostly caused by an end of game or incorrect input. Program will now exit.\n"
     ]
    },
    {
     "name": "stderr",
     "output_type": "stream",
     "text": [
      "WARNING:urllib3.connectionpool:Retrying (Retry(total=2, connect=None, read=None, redirect=None, status=None)) after connection broken by 'NewConnectionError('<urllib3.connection.HTTPConnection object at 0x63e728790>: Failed to establish a new connection: [Errno 61] Connection refused')': /session/96fe8915c6e01c40f9032ded1729d00a\n",
      "WARNING:urllib3.connectionpool:Retrying (Retry(total=1, connect=None, read=None, redirect=None, status=None)) after connection broken by 'NewConnectionError('<urllib3.connection.HTTPConnection object at 0x63e63db10>: Failed to establish a new connection: [Errno 61] Connection refused')': /session/96fe8915c6e01c40f9032ded1729d00a\n",
      "WARNING:urllib3.connectionpool:Retrying (Retry(total=0, connect=None, read=None, redirect=None, status=None)) after connection broken by 'NewConnectionError('<urllib3.connection.HTTPConnection object at 0x63e724b10>: Failed to establish a new connection: [Errno 61] Connection refused')': /session/96fe8915c6e01c40f9032ded1729d00a\n",
      "ERROR:root:Internal Python error in the inspect module.\n",
      "Below is the traceback from this internal error.\n",
      "\n"
     ]
    },
    {
     "name": "stdout",
     "output_type": "stream",
     "text": [
      "Traceback (most recent call last):\n",
      "  File \"<ipython-input-50-0fe3986a2f2f>\", line 9, in <module>\n",
      "    chlodds = driver.find_element_by_xpath(\"//div[@id='\"+div_id+\"'\"+\"and @class='betTypeAllOdds']\")\n",
      "  File \"/opt/anaconda3/lib/python3.7/site-packages/selenium/webdriver/remote/webdriver.py\", line 394, in find_element_by_xpath\n",
      "    return self.find_element(by=By.XPATH, value=xpath)\n",
      "  File \"/opt/anaconda3/lib/python3.7/site-packages/selenium/webdriver/remote/webdriver.py\", line 978, in find_element\n",
      "    'value': value})['value']\n",
      "  File \"/opt/anaconda3/lib/python3.7/site-packages/selenium/webdriver/remote/webdriver.py\", line 321, in execute\n",
      "    self.error_handler.check_response(response)\n",
      "  File \"/opt/anaconda3/lib/python3.7/site-packages/selenium/webdriver/remote/errorhandler.py\", line 242, in check_response\n",
      "    raise exception_class(message, screen, stacktrace)\n",
      "selenium.common.exceptions.NoSuchElementException: Message: no such element: Unable to locate element: {\"method\":\"xpath\",\"selector\":\"//div[@id='dCHLTable20200212WED1'and @class='betTypeAllOdds']\"}\n",
      "  (Session info: chrome=80.0.3987.100)\n",
      "\n",
      "\n",
      "During handling of the above exception, another exception occurred:\n",
      "\n",
      "Traceback (most recent call last):\n",
      "  File \"/opt/anaconda3/lib/python3.7/site-packages/IPython/core/interactiveshell.py\", line 3319, in run_code\n",
      "    exec(code_obj, self.user_global_ns, self.user_ns)\n",
      "  File \"<ipython-input-50-0fe3986a2f2f>\", line 14, in <module>\n",
      "    sys.exit()\n",
      "SystemExit\n",
      "\n",
      "During handling of the above exception, another exception occurred:\n",
      "\n",
      "Traceback (most recent call last):\n",
      "  File \"/opt/anaconda3/lib/python3.7/site-packages/IPython/core/ultratb.py\", line 1151, in get_records\n",
      "    return _fixed_getinnerframes(etb, number_of_lines_of_context, tb_offset)\n",
      "  File \"/opt/anaconda3/lib/python3.7/site-packages/IPython/core/ultratb.py\", line 319, in wrapped\n",
      "    return f(*args, **kwargs)\n",
      "  File \"/opt/anaconda3/lib/python3.7/site-packages/IPython/core/ultratb.py\", line 353, in _fixed_getinnerframes\n",
      "    records = fix_frame_records_filenames(inspect.getinnerframes(etb, context))\n",
      "  File \"/opt/anaconda3/lib/python3.7/inspect.py\", line 1502, in getinnerframes\n",
      "    frameinfo = (tb.tb_frame,) + getframeinfo(tb, context)\n",
      "AttributeError: 'tuple' object has no attribute 'tb_frame'\n"
     ]
    },
    {
     "ename": "SystemExit",
     "evalue": "",
     "output_type": "error",
     "traceback": [
      "An exception has occurred, use %tb to see the full traceback.\n",
      "\u001b[0;31m---------------------------------------------------------------------------\u001b[0m",
      "\nDuring handling of the above exception, another exception occurred:\n",
      "\u001b[0;31mSystemExit\u001b[0m\n"
     ]
    }
   ],
   "source": [
    "import sys\n",
    "div_id = 'dCHLTable'+event_id\n",
    "\n",
    "driver = webdriver.Chrome('/Users/TysonWu/dev/odds-crawl/development/chromedriver')\n",
    "driver.get(url)\n",
    "time.sleep(5)\n",
    "# html_source = driver.page_source # get WHOLE html source which wastes time\n",
    "try:\n",
    "    chlodds = driver.find_element_by_xpath(\"//div[@id='\"+div_id+\"'\"+\"and @class='betTypeAllOdds']\")\n",
    "    chlodds_content = chlodds.get_attribute('innerHTML')\n",
    "except:\n",
    "    driver.quit()\n",
    "    print('Error finding attribute. This is mostly caused by an end of game or incorrect input. Program will now exit.')\n",
    "    sys.exit()\n",
    "finally:\n",
    "    driver.quit()"
   ]
  },
  {
   "cell_type": "markdown",
   "metadata": {},
   "source": [
    "### Alternative: Without actually opening the driver (use HTMLUnit)\n",
    "\n",
    "https://stackoverflow.com/questions/4081724/how-do-i-use-the-htmlunit-driver-with-selenium-through-the-python-bindings\n",
    "\n",
    "- Install Selenium webdriver:\n",
    "\n",
    "https://pypi.org/project/selenium/"
   ]
  },
  {
   "cell_type": "markdown",
   "metadata": {},
   "source": [
    "Whole content: dMixContent_20200209SUN24\n",
    "\n",
    "\n",
    "Corner HiLo: \\<div id=\"dCHLTable20200209SUN27\" class=\"betTypeAllOdds\"\\>"
   ]
  },
  {
   "cell_type": "code",
   "execution_count": 98,
   "metadata": {},
   "outputs": [],
   "source": [
    "def get_odds(event_id):\n",
    "    entry = '1'\n",
    "    line_list = []\n",
    "    chl_hi_list = []\n",
    "    chl_low_list = []\n",
    "    if soup.find('span', id = event_id+\"_CHL_LINE_\"+entry).text == '---': # suspend time\n",
    "        return [],[],[]\n",
    "    while (soup.find('span', id = event_id+\"_CHL_LINE_\"+entry)): # exit when return None\n",
    "        # get text content from a specific span id\n",
    "        line = soup.find('span', id = event_id+\"_CHL_LINE_\"+entry).text.strip('[]')\n",
    "        chl_hi = soup.find('span', id = event_id+\"_CHL_H_\"+entry).text\n",
    "        chl_low = soup.find('span', id = event_id+\"_CHL_L_\"+entry).text\n",
    "        entry = str(int(entry)+1)\n",
    "        line_list.append(line)\n",
    "        chl_hi_list.append(chl_hi)\n",
    "        chl_low_list.append(chl_low)\n",
    "    return line_list, chl_hi_list, chl_low_list\n",
    "\n",
    "# pretty by beautiful soup\n",
    "soup = BeautifulSoup(chlodds_content, 'html.parser')\n",
    "# print(soup.prettify())\n",
    "line_list, chl_hi_list, chl_low_list = get_odds(event_id)"
   ]
  },
  {
   "cell_type": "markdown",
   "metadata": {},
   "source": [
    "Now we got a list of odds in this instance.\n",
    "\n",
    "Turn the result into a pandas dataframe:"
   ]
  },
  {
   "cell_type": "code",
   "execution_count": 130,
   "metadata": {},
   "outputs": [
    {
     "data": {
      "text/html": [
       "<div>\n",
       "<style scoped>\n",
       "    .dataframe tbody tr th:only-of-type {\n",
       "        vertical-align: middle;\n",
       "    }\n",
       "\n",
       "    .dataframe tbody tr th {\n",
       "        vertical-align: top;\n",
       "    }\n",
       "\n",
       "    .dataframe thead th {\n",
       "        text-align: right;\n",
       "    }\n",
       "</style>\n",
       "<table border=\"1\" class=\"dataframe\">\n",
       "  <thead>\n",
       "    <tr style=\"text-align: right;\">\n",
       "      <th></th>\n",
       "      <th>timestamp</th>\n",
       "      <th>line</th>\n",
       "      <th>corner_hi</th>\n",
       "      <th>corner_low</th>\n",
       "      <th>game_starting_time</th>\n",
       "      <th>minutes</th>\n",
       "    </tr>\n",
       "  </thead>\n",
       "  <tbody>\n",
       "    <tr>\n",
       "      <th>0</th>\n",
       "      <td>2020-02-10 04:37:19.713333</td>\n",
       "      <td>10.5</td>\n",
       "      <td>1.74</td>\n",
       "      <td>1.97</td>\n",
       "      <td>2020-02-10 03:45:00</td>\n",
       "      <td>00:52:19.713333</td>\n",
       "    </tr>\n",
       "    <tr>\n",
       "      <th>1</th>\n",
       "      <td>2020-02-10 04:37:19.713333</td>\n",
       "      <td>11.5</td>\n",
       "      <td>2.17</td>\n",
       "      <td>1.61</td>\n",
       "      <td>2020-02-10 03:45:00</td>\n",
       "      <td>00:52:19.713333</td>\n",
       "    </tr>\n",
       "  </tbody>\n",
       "</table>\n",
       "</div>"
      ],
      "text/plain": [
       "                   timestamp  line corner_hi corner_low  game_starting_time  \\\n",
       "0 2020-02-10 04:37:19.713333  10.5      1.74       1.97 2020-02-10 03:45:00   \n",
       "1 2020-02-10 04:37:19.713333  11.5      2.17       1.61 2020-02-10 03:45:00   \n",
       "\n",
       "          minutes  \n",
       "0 00:52:19.713333  \n",
       "1 00:52:19.713333  "
      ]
     },
     "execution_count": 130,
     "metadata": {},
     "output_type": "execute_result"
    }
   ],
   "source": [
    "import pandas as pd\n",
    "import os\n",
    "import os.path\n",
    "import time\n",
    "from datetime import datetime\n",
    "\n",
    "timestamp = datetime.now()\n",
    "timestamp = datetime.strftime(timestamp, '%Y-%m-%d %H:%M:%S')\n",
    "timestamp = datetime.strptime(timestamp, '%Y-%m-%d %H:%M:%S')\n",
    "\n",
    "odds = pd.DataFrame({'timestamp': timestamp, \n",
    "                     'line':line_list, \n",
    "                     'corner_hi':chl_hi_list,\n",
    "                     'corner_low': chl_low_list})\n",
    "odds['game_starting_time'] = game_starting_time\n",
    "odds['game_starting_time'] = odds['game_starting_time'].apply(lambda x: datetime.strptime(x, '%Y%m%d %H:%M'))\n",
    "odds['minutes'] = odds.timestamp - odds.game_starting_time\n",
    "odds['minutes'] = odds['minutes'].apply(lambda x: datetime.strptime(x, '0 days %H:%M:%S.%f000').strftime('%H:%M:%S'))\n",
    "\n",
    "odds"
   ]
  },
  {
   "cell_type": "code",
   "execution_count": null,
   "metadata": {},
   "outputs": [],
   "source": [
    "# if file exists, write line; if file does not exist, create one and write line\n",
    "path_file = os.getcwd()+'/data/'+event_id+'.csv'\n",
    "if os.path.isfile(path_file):\n",
    "    odds.to_csv(path_file, index=False, mode='a', header=False)\n",
    "else:\n",
    "    odds.to_csv(path_file, index=False, mode='w', header=True)"
   ]
  },
  {
   "cell_type": "markdown",
   "metadata": {},
   "source": [
    "### Test: these damn times"
   ]
  },
  {
   "cell_type": "code",
   "execution_count": 33,
   "metadata": {},
   "outputs": [
    {
     "name": "stdout",
     "output_type": "stream",
     "text": [
      "2020-02-10 07:44:08\n",
      "2020-02-10 03:45:00\n"
     ]
    }
   ],
   "source": [
    "from datetime import datetime\n",
    "timestamp = datetime.now()\n",
    "timestamp = datetime.strftime(timestamp, '%Y-%m-%d %H:%M:%S') # convert datetime to str\n",
    "timestamp = datetime.strptime(timestamp, '%Y-%m-%d %H:%M:%S') # convert str to datetime\n",
    "print(timestamp)\n",
    "\n",
    "timestamp2 = '20200210 03:45' # str\n",
    "timestamp2 = datetime.strptime(timestamp2, '%Y%m%d %H:%M') # convert str to datetime\n",
    "print(timestamp2)\n",
    "\n",
    "diff = timestamp - timestamp2 # type: timedelta"
   ]
  },
  {
   "cell_type": "markdown",
   "metadata": {},
   "source": [
    "# Automation\n",
    "\n",
    "https://www.youtube.com/watch?v=QZJ1drMQz1A\n",
    "\n",
    "### Check Python version\n",
    "\n",
    "- Can be done by typing `which python` in Terminal\n",
    "\n",
    "1. Type `crontab -e` in terminal to enter vim edit cron jobs\n",
    "2. Press `I` to go to insert mode in Vim\n",
    "3. Specify the time for job, then insert Python path got from `which python`, then insert crawler.py path\n",
    "4. Press `Esc` after finishing input\n",
    "5. Type `:wq` to save and quit\n",
    "\n",
    "#### Time Format\n",
    "\n",
    "```\n",
    "# ┌───────────── minute (0 - 59)\n",
    "# │ ┌───────────── hour (0 - 23)\n",
    "# │ │ ┌───────────── day of month (1 - 31)\n",
    "# │ │ │ ┌───────────── month (1 - 12)\n",
    "# │ │ │ │ ┌───────────── day of week (0 - 6) (Sunday to Saturday;\n",
    "# │ │ │ │ │                                       7 is also Sunday on some systems)\n",
    "# │ │ │ │ │\n",
    "# │ │ │ │ │\n",
    "# * * * * *  command_to_execute\n",
    "```\n",
    "\n",
    "#### Cron job utilities\n",
    "`crontab -l` shows a list of cronjobs\n",
    "\n",
    "#### Example\n",
    "\n",
    "```\n",
    "* 8-11 * * * /opt/anaconda3/bin/python /Users/TysonWu/dev/hkjc-crawl/crawler.py\n",
    "* 8-11 * * * ( sleep 30 ; /opt/anaconda3/bin/python /Users/TysonWu/dev/hkjc-crawl/crawler.py )\n",
    "```\n",
    "The first line runs script at 8-11am every minute\n",
    "\n",
    "The second line runs script 30 seconds after the first one -> run the script every 30 seconds\n",
    "\n",
    "---"
   ]
  },
  {
   "cell_type": "code",
   "execution_count": null,
   "metadata": {},
   "outputs": [],
   "source": []
  },
  {
   "cell_type": "markdown",
   "metadata": {},
   "source": [
    "# Future development:\n",
    "\n",
    "1. Use headless drivers instead of chromedriver which opens up every time\n",
    "\n",
    "2. Consistency on the timestamp\n",
    "\n",
    "3. Automate the input -> user input url only, automate getting other infos\n",
    "\n",
    "4. Crawl multiple games simultaneously\n",
    "\n",
    "5. Flows data into MySQL server\n"
   ]
  },
  {
   "cell_type": "code",
   "execution_count": null,
   "metadata": {},
   "outputs": [],
   "source": []
  },
  {
   "cell_type": "markdown",
   "metadata": {},
   "source": [
    "## Auto get game info\n",
    "\n",
    "https://selenium-python.readthedocs.io/locating-elements.html"
   ]
  },
  {
   "cell_type": "code",
   "execution_count": 44,
   "metadata": {},
   "outputs": [],
   "source": [
    "#---------input-url---\n",
    "url = 'https://bet.hkjc.com/football/odds/odds_allodds.aspx?lang=EN&tmatchid=8f455de2-e486-4c17-945d-44c4bf942d01'\n",
    "game_starting_time = '20200212 18:00' #YYYYmmdd HH:MM format\n",
    "#--------------------"
   ]
  },
  {
   "cell_type": "markdown",
   "metadata": {},
   "source": [
    "##### With auto crawl game starting time "
   ]
  },
  {
   "cell_type": "code",
   "execution_count": 24,
   "metadata": {},
   "outputs": [
    {
     "name": "stdout",
     "output_type": "stream",
     "text": [
      "\n",
      "Looking for [chromedriver 80.0.3987.16 mac64] driver in cache \n",
      "File found in cache by path [/Users/TysonWu/.wdm/drivers/chromedriver/80.0.3987.16/mac64/chromedriver]\n"
     ]
    }
   ],
   "source": [
    "import sys\n",
    "from webdriver_manager.chrome import ChromeDriverManager\n",
    "\n",
    "driver = webdriver.Chrome(ChromeDriverManager().install())\n",
    "driver.get(url)\n",
    "time.sleep(5)\n",
    "# html_source = driver.page_source # get WHOLE html source which wastes time\n",
    "try:\n",
    "    game_info = driver.find_element_by_id('litMDay')\n",
    "    game_starting_time = driver.find_element_by_id('litEsst')\n",
    "except:\n",
    "    driver.quit()\n",
    "    print('Error finding attribute. Program will now exit.')\n",
    "    sys.exit()\n",
    "finally:\n",
    "    game_info_content = game_info.get_attribute('innerHTML')\n",
    "    game_starting_time_content = game_starting_time.get_attribute('innerHTML')\n",
    "    driver.quit()"
   ]
  },
  {
   "cell_type": "code",
   "execution_count": 23,
   "metadata": {},
   "outputs": [
    {
     "name": "stdout",
     "output_type": "stream",
     "text": [
      "wrong\n"
     ]
    }
   ],
   "source": [
    "from datetime import datetime\n",
    "game_starting_time_content = datetime.strptime(game_starting_time_content, '%d/%m %H:%M').strftime('%H:%M')\n",
    "if game_starting_time_content >= '18:00':\n",
    "    print('here')\n",
    "else:\n",
    "    print('wrong')"
   ]
  },
  {
   "cell_type": "markdown",
   "metadata": {},
   "source": [
    "#### Without auto crawl game starting time \n",
    "Only auto crawl weekday, number, date"
   ]
  },
  {
   "cell_type": "code",
   "execution_count": 45,
   "metadata": {},
   "outputs": [
    {
     "name": "stdout",
     "output_type": "stream",
     "text": [
      "\n",
      "Looking for [chromedriver 80.0.3987.16 mac64] driver in cache \n",
      "File found in cache by path [/Users/TysonWu/.wdm/drivers/chromedriver/80.0.3987.16/mac64/chromedriver]\n"
     ]
    }
   ],
   "source": [
    "import sys\n",
    "from webdriver_manager.chrome import ChromeDriverManager\n",
    "\n",
    "driver = webdriver.Chrome(ChromeDriverManager().install())\n",
    "driver.get(url)\n",
    "time.sleep(5)\n",
    "# html_source = driver.page_source # get WHOLE html source which wastes time\n",
    "try:\n",
    "    game_info = driver.find_element_by_id('litMDay')\n",
    "except:\n",
    "    driver.quit()\n",
    "    print('Error finding attribute. Program will now exit.')\n",
    "    sys.exit()\n",
    "finally:\n",
    "    game_info_content = game_info.get_attribute('innerHTML')\n",
    "    driver.quit()"
   ]
  },
  {
   "cell_type": "code",
   "execution_count": 46,
   "metadata": {},
   "outputs": [
    {
     "name": "stdout",
     "output_type": "stream",
     "text": [
      "20200212\n"
     ]
    }
   ],
   "source": [
    "from datetime import timedelta\n",
    "\n",
    "game_info_content = game_info_content.replace(' ','')\n",
    "start_date, start_time = game_starting_time.split()[0], game_starting_time.split()[1]\n",
    "start_time = datetime.strptime(start_time, '%H:%M').strftime('%H:%M')\n",
    "start_date = datetime.strptime(start_date, '%Y%m%d')\n",
    "if start_time <= '12:00':\n",
    "    start_date = start_date - timedelta(days=1)\n",
    "start_date = datetime.strftime(start_date, '%Y%m%d')\n",
    "\n",
    "print(start_date)\n",
    "#     date = date.strftime()"
   ]
  },
  {
   "cell_type": "code",
   "execution_count": 47,
   "metadata": {},
   "outputs": [],
   "source": [
    "event_id = start_date+game_info_content"
   ]
  },
  {
   "cell_type": "markdown",
   "metadata": {},
   "source": [
    "#### Get team info"
   ]
  },
  {
   "cell_type": "code",
   "execution_count": 72,
   "metadata": {},
   "outputs": [],
   "source": [
    "from bs4 import BeautifulSoup\n",
    "import time\n",
    "from selenium import webdriver\n",
    "from webdriver_manager.chrome import ChromeDriverManager\n",
    "import sys\n",
    "\n",
    "url = 'https://bet.hkjc.com/football/odds/odds_inplay_all.aspx?lang=EN&tmatchid=3bbe5f3a-4a70-4a2e-bce9-c35519e7ae9a'"
   ]
  },
  {
   "cell_type": "code",
   "execution_count": 100,
   "metadata": {},
   "outputs": [
    {
     "name": "stdout",
     "output_type": "stream",
     "text": [
      "\n",
      "Looking for [chromedriver 80.0.3987.16 mac64] driver in cache \n",
      "File found in cache by path [/Users/TysonWu/.wdm/drivers/chromedriver/80.0.3987.16/mac64/chromedriver]\n"
     ]
    }
   ],
   "source": [
    "driver = webdriver.Chrome(ChromeDriverManager().install())\n",
    "driver.get(url)"
   ]
  },
  {
   "cell_type": "code",
   "execution_count": 76,
   "metadata": {},
   "outputs": [
    {
     "name": "stdout",
     "output_type": "stream",
     "text": [
      "Epinal (Home)0 : 0St. Etienne (Away)\n"
     ]
    }
   ],
   "source": [
    "team_names = driver.find_element_by_id('litTeamsStr')\n",
    "score = driver.find_element_by_id('sr20200213THU6')\n",
    "team_names_content = BeautifulSoup(team_names.get_attribute('innerHTML'), \n",
    "                                   'html.parser').text\n",
    "print(team_names_content)"
   ]
  },
  {
   "cell_type": "code",
   "execution_count": 68,
   "metadata": {},
   "outputs": [
    {
     "data": {
      "text/plain": [
       "('Epinal xxx y  yyy', 'St. Etienne')"
      ]
     },
     "execution_count": 68,
     "metadata": {},
     "output_type": "execute_result"
    }
   ],
   "source": [
    "import re\n",
    "\n",
    "x = 'Epinal xxx y  yyy  (Home)vsSt. Etienne (Away)'\n",
    "home = re.search('(.*)\\(Home\\)',x).group(1).strip()\n",
    "away = re.search('\\(Home\\)vs(.+)\\(Away\\)',x).group(1).strip()\n",
    "home, away"
   ]
  },
  {
   "cell_type": "code",
   "execution_count": 84,
   "metadata": {},
   "outputs": [
    {
     "data": {
      "text/plain": [
       "'Epinal'"
      ]
     },
     "execution_count": 84,
     "metadata": {},
     "output_type": "execute_result"
    }
   ],
   "source": [
    "home_name = driver.find_element_by_xpath('//*[@id=\"litTeamsStr\"]/span/span[1]')\n",
    "home_name_content = BeautifulSoup(home_name.get_attribute('innerHTML'), 'html.parser').text\n",
    "home_name_content = re.search('(.*)\\(Home\\)',home_name_content).group(1).strip()\n",
    "home_name_content"
   ]
  },
  {
   "cell_type": "code",
   "execution_count": 88,
   "metadata": {},
   "outputs": [
    {
     "name": "stdout",
     "output_type": "stream",
     "text": [
      "St. Etienne (Away)\n"
     ]
    },
    {
     "data": {
      "text/plain": [
       "'St. Etienne'"
      ]
     },
     "execution_count": 88,
     "metadata": {},
     "output_type": "execute_result"
    }
   ],
   "source": [
    "away_name = driver.find_element_by_xpath('//*[@id=\"litTeamsStr\"]/span/span[3]')\n",
    "away_name_content = BeautifulSoup(away_name.get_attribute('innerHTML'), 'html.parser').text\n",
    "print(away_name_content)\n",
    "away_name_content = re.search('(.*)\\(Away\\)',away_name_content).group(1).strip()\n",
    "away_name_content"
   ]
  },
  {
   "cell_type": "markdown",
   "metadata": {},
   "source": [
    "#### Get live score"
   ]
  },
  {
   "cell_type": "code",
   "execution_count": 99,
   "metadata": {},
   "outputs": [
    {
     "data": {
      "text/plain": [
       "['vs']"
      ]
     },
     "execution_count": 99,
     "metadata": {},
     "output_type": "execute_result"
    }
   ],
   "source": [
    "live_score = driver.find_element_by_class_name('matchresult').get_attribute('innerHTML')\n",
    "live_score = 'vs'\n",
    "[score.strip() for score in live_score.split(':')]"
   ]
  },
  {
   "cell_type": "markdown",
   "metadata": {},
   "source": [
    "#### Do even better on crawling CHL odds"
   ]
  },
  {
   "cell_type": "markdown",
   "metadata": {},
   "source": [
    "20200213THU7_CHL_LINE_1\n",
    "\n",
    "20200213THU7_CHL_H_1\n",
    "\n",
    "20200213THU7_CHL_L_1"
   ]
  },
  {
   "cell_type": "code",
   "execution_count": 107,
   "metadata": {},
   "outputs": [
    {
     "data": {
      "text/plain": [
       "{'chl_line': ['9.5', '10.5', '12.5'],\n",
       " 'chl_hi': ['2.02', '2.65', '4.85'],\n",
       " 'chl_low': ['1.70', '1.42', '1.14']}"
      ]
     },
     "execution_count": 107,
     "metadata": {},
     "output_type": "execute_result"
    }
   ],
   "source": [
    "def function(event_id='20200213THU7'):\n",
    "    chl_id = \"dCHLTable\" + event_id\n",
    "    try:\n",
    "        chlodds = driver.find_element_by_xpath(\n",
    "            \"//div[@id='\" + chl_id + \"'\" + \"and @class='betTypeAllOdds']\")\n",
    "        chlodds_content = chlodds.get_attribute(\"innerHTML\")\n",
    "\n",
    "    except:\n",
    "        driver.quit()\n",
    "        print(\"Error finding Corner hilow odds. Program will now terminate.\")\n",
    "        sys.exit()\n",
    "\n",
    "    entry = \"1\"\n",
    "    chl_line_list = []\n",
    "    chl_hi_list = []\n",
    "    chl_low_list = []\n",
    "\n",
    "    # skip suspended time \"---\" entry\n",
    "    if (driver.find_element_by_id(event_id+'_CHL_H_'+entry).get_attribute('innerHTML') == \"---\"):\n",
    "        return dict(chl_line=chl_line_list, chl_hi=chl_hi_list, chl_low=chl_low_list)\n",
    "\n",
    "    while (True):\n",
    "        try:\n",
    "            chl_line_list.append(\n",
    "                driver.find_element_by_id(event_id+'_CHL_LINE_'+entry).get_attribute('innerHTML').strip(\"[]\"))\n",
    "            chl_hi_list.append(\n",
    "                driver.find_element_by_id(event_id+'_CHL_H_'+entry).get_attribute('innerHTML'))\n",
    "            chl_low_list.append(\n",
    "                driver.find_element_by_id(event_id+'_CHL_L_'+entry).get_attribute('innerHTML'))\n",
    "            entry = str(int(entry) + 1)\n",
    "        except:\n",
    "            # return things when error\n",
    "            return dict(chl_line=chl_line_list, chl_hi=chl_hi_list, chl_low=chl_low_list)\n",
    "\n",
    "function()"
   ]
  },
  {
   "cell_type": "code",
   "execution_count": null,
   "metadata": {},
   "outputs": [],
   "source": []
  }
 ],
 "metadata": {
  "kernelspec": {
   "display_name": "Python 3",
   "language": "python",
   "name": "python3"
  },
  "language_info": {
   "codemirror_mode": {
    "name": "ipython",
    "version": 3
   },
   "file_extension": ".py",
   "mimetype": "text/x-python",
   "name": "python",
   "nbconvert_exporter": "python",
   "pygments_lexer": "ipython3",
   "version": "3.7.6"
  }
 },
 "nbformat": 4,
 "nbformat_minor": 4
}
