{
 "cells": [
  {
   "cell_type": "markdown",
   "metadata": {},
   "source": [
    "### Bug 1: Rows don't append after minutes around 1:36:00 when there is only 1 line available for bet"
   ]
  },
  {
   "cell_type": "code",
   "execution_count": 1,
   "metadata": {},
   "outputs": [
    {
     "name": "stdout",
     "output_type": "stream",
     "text": [
      "\n",
      "Looking for [chromedriver 80.0.3987.106 mac64] driver in cache \n",
      "File found in cache by path [/Users/TysonWu/.wdm/drivers/chromedriver/80.0.3987.106/mac64/chromedriver]\n"
     ]
    }
   ],
   "source": [
    "#!/usr/bin/env python3\n",
    "# -*- coding: utf-8 -*-\n",
    "\"\"\"\n",
    "Created on Wed Feb 19 01:36:28 2020\n",
    "\n",
    "@author: TysonWu\n",
    "\"\"\"\n",
    "\n",
    "import pandas as pd\n",
    "from datetime import datetime\n",
    "from datetime import timedelta\n",
    "from crawler import initialize\n",
    "# odd_dict = dict(chl_line=[6.5,7.5], chl_hi = [1.0,2.0], chl_low=[3.0,4.0])\n",
    "live_score_dict=dict(home=1, away=2)\n",
    "event_id = '20200218TUE13'\n",
    "game_starting_time = '456'\n",
    "\n",
    "url ='https://bet.hkjc.com/football/odds/odds_inplay_all.aspx?lang=EN&tmatchid=2d90153b-091e-4847-a806-d40f5bc32930'\n",
    "driver=initialize(url)\n",
    "def scrap_odds(driver, event_id):\n",
    "    entry = \"1\"\n",
    "    chl_line_list = []\n",
    "    chl_hi_list = []\n",
    "    chl_low_list = []\n",
    "    while (True):\n",
    "        try:\n",
    "            chl_line_list.append(\n",
    "                driver.find_element_by_id(event_id+'_CHL_LINE_'+entry).get_attribute(\n",
    "                 'innerHTML').strip(\"[]\"))\n",
    "            chl_hi_list.append(\n",
    "             driver.find_element_by_id(event_id+'_CHL_H_'+entry).get_attribute(\n",
    "                 'innerHTML'))\n",
    "            chl_low_list.append(\n",
    "             driver.find_element_by_id(event_id+'_CHL_L_'+entry).get_attribute(\n",
    "                 'innerHTML'))\n",
    "            entry = str(int(entry) + 1)\n",
    "        except:\n",
    "            # return things when error\n",
    "            return dict(chl_line=chl_line_list, chl_hi=chl_hi_list, chl_low=chl_low_list)\n",
    "\n",
    "def make_odds_data(odd_dict, live_score_dict, event_id, game_starting_time):\n",
    "    # add timestamp\n",
    "    timestamp = datetime.strptime(datetime.strftime(datetime.now(), \"%Y-%m-%d %H:%M:%S\"), \n",
    "                                  \"%Y-%m-%d %H:%M:%S\")\n",
    "\n",
    "    minutes = game_starting_time\n",
    "\n",
    "    time_data = pd.DataFrame({\"event_id\": event_id,\n",
    "                              \"timestamp\": timestamp,\n",
    "                              \"minutes\": minutes},index=[0])\n",
    "\n",
    "    # append live_score data\n",
    "    odds = pd.concat([time_data, pd.DataFrame(live_score_dict, index=[0])], axis=1)\n",
    "\n",
    "    # append corner hilow odds data\n",
    "    odds = pd.concat([odds, pd.DataFrame(odd_dict)], axis=1).fillna(method=\"ffill\")\n",
    "    return odds\n",
    "    "
   ]
  },
  {
   "cell_type": "code",
   "execution_count": 4,
   "metadata": {},
   "outputs": [
    {
     "name": "stdout",
     "output_type": "stream",
     "text": [
      "{'chl_line': ['10.5'], 'chl_hi': ['2.05'], 'chl_low': ['1.68']}\n",
      "        event_id           timestamp minutes  home  away chl_line chl_hi  \\\n",
      "0  20200218TUE13 2020-02-19 02:37:33     456     1     2     10.5   2.05   \n",
      "\n",
      "  chl_low  \n",
      "0    1.68  \n",
      "export to csv\n"
     ]
    }
   ],
   "source": [
    "odd_dict = scrap_odds(driver,event_id)\n",
    "print(odd_dict)\n",
    "odds = make_odds_data(odd_dict, live_score_dict, event_id, game_starting_time)\n",
    "\n",
    "print(odds)\n",
    "\n",
    "if not odds.chl_line.isnull().values.any():\n",
    "    print('export to csv')"
   ]
  },
  {
   "cell_type": "code",
   "execution_count": 3,
   "metadata": {},
   "outputs": [
    {
     "data": {
      "text/plain": [
       "False"
      ]
     },
     "execution_count": 3,
     "metadata": {},
     "output_type": "execute_result"
    }
   ],
   "source": [
    "odds.chl_line.isnull().values.any()"
   ]
  },
  {
   "cell_type": "code",
   "execution_count": 15,
   "metadata": {},
   "outputs": [],
   "source": [
    "import os\n",
    "path_file = event_id + \".csv\"\n",
    "if os.path.exists(path_file) == True:\n",
    "    odds.to_csv(path_file, index=False, mode=\"a\", header=False)\n",
    "else:\n",
    "    odds.to_csv(path_file, index=False, mode=\"w\", header=True)"
   ]
  },
  {
   "cell_type": "code",
   "execution_count": 3,
   "metadata": {},
   "outputs": [
    {
     "name": "stdout",
     "output_type": "stream",
     "text": [
      "1\n",
      "2\n",
      "enter except block\n",
      "['10.5']\n",
      "['2.05']\n",
      "['1.68']\n",
      "{'chl_line': ['10.5'], 'chl_hi': ['2.05'], 'chl_low': ['1.68']}\n"
     ]
    }
   ],
   "source": [
    "def f():\n",
    "    entry = \"1\"\n",
    "    chl_line_list = []\n",
    "    chl_hi_list = []\n",
    "    chl_low_list = []\n",
    "    while (True):\n",
    "        try:\n",
    "            print(entry)\n",
    "            chl_line_list.append(\n",
    "                driver.find_element_by_id(event_id+'_CHL_LINE_'+entry).get_attribute(\n",
    "                    'innerHTML').strip(\"[]\"))\n",
    "            chl_hi_list.append(\n",
    "                driver.find_element_by_id(event_id+'_CHL_H_'+entry).get_attribute(\n",
    "                    'innerHTML'))\n",
    "            chl_low_list.append(\n",
    "                driver.find_element_by_id(event_id+'_CHL_L_'+entry).get_attribute(\n",
    "                    'innerHTML'))\n",
    "            entry = str(int(entry) + 1)\n",
    "        except:\n",
    "            # return things when error\n",
    "            print('enter except block')\n",
    "            print(chl_line_list)\n",
    "            print(chl_hi_list)\n",
    "            print(chl_low_list)\n",
    "            odd_dict = dict(chl_line=chl_line_list, chl_hi=chl_hi_list, chl_low=chl_low_list)\n",
    "            return odd_dict\n",
    "dictionary = f()\n",
    "print(dictionary)"
   ]
  },
  {
   "cell_type": "markdown",
   "metadata": {},
   "source": [
    "### Developing 2: find total corner number"
   ]
  },
  {
   "cell_type": "code",
   "execution_count": 8,
   "metadata": {},
   "outputs": [
    {
     "name": "stdout",
     "output_type": "stream",
     "text": [
      "\n",
      "Looking for [chromedriver 80.0.3987.106 mac64] driver in cache \n",
      "File found in cache by path [/Users/TysonWu/.wdm/drivers/chromedriver/80.0.3987.106/mac64/chromedriver]\n"
     ]
    }
   ],
   "source": [
    "import pandas as pd\n",
    "from datetime import datetime\n",
    "from datetime import timedelta\n",
    "from crawler import initialize\n",
    "\n",
    "url ='https://bet.hkjc.com/football/odds/odds_inplay_all.aspx?lang=EN&tmatchid=2d90153b-091e-4847-a806-d40f5bc32930'\n",
    "driver=initialize(url)\n"
   ]
  },
  {
   "cell_type": "code",
   "execution_count": 21,
   "metadata": {},
   "outputs": [
    {
     "data": {
      "text/plain": [
       "' '"
      ]
     },
     "execution_count": 21,
     "metadata": {},
     "output_type": "execute_result"
    }
   ],
   "source": [
    "from bs4 import BeautifulSoup\n",
    "soup = BeautifulSoup(driver.find_element_by_class_name('spTotalCorner').get_attribute('innerHTML'), \n",
    "                     'html.parser').text\n",
    "soup"
   ]
  },
  {
   "cell_type": "code",
   "execution_count": 23,
   "metadata": {},
   "outputs": [
    {
     "name": "stdout",
     "output_type": "stream",
     "text": [
      "one space\n"
     ]
    }
   ],
   "source": [
    "if soup == '':\n",
    "    print('empty')\n",
    "if soup == ' ':\n",
    "    print('one space')"
   ]
  },
  {
   "cell_type": "code",
   "execution_count": null,
   "metadata": {},
   "outputs": [],
   "source": []
  }
 ],
 "metadata": {
  "kernelspec": {
   "display_name": "Python 3",
   "language": "python",
   "name": "python3"
  },
  "language_info": {
   "codemirror_mode": {
    "name": "ipython",
    "version": 3
   },
   "file_extension": ".py",
   "mimetype": "text/x-python",
   "name": "python",
   "nbconvert_exporter": "python",
   "pygments_lexer": "ipython3",
   "version": "3.7.6"
  }
 },
 "nbformat": 4,
 "nbformat_minor": 4
}
