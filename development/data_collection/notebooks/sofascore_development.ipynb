{
 "cells": [
  {
   "cell_type": "code",
   "execution_count": 2,
   "metadata": {},
   "outputs": [],
   "source": [
    "import pandas as pd\n",
    "import time\n",
    "from datetime import datetime, timedelta\n",
    "from selenium import webdriver\n",
    "from webdriver_manager.chrome import ChromeDriverManager\n",
    "\n",
    "\n",
    "def initialize(url, load_sleep=10):\n",
    "    driver = webdriver.Chrome(ChromeDriverManager().install())\n",
    "    driver.get(url)\n",
    "    time.sleep(load_sleep)  # to let the HTML load\n",
    "    return driver"
   ]
  },
  {
   "cell_type": "code",
   "execution_count": 3,
   "metadata": {},
   "outputs": [
    {
     "name": "stdout",
     "output_type": "stream",
     "text": [
      "Trying to download new driver from http://chromedriver.storage.googleapis.com/80.0.3987.106/chromedriver_mac64.zip\n",
      "Unpack archive /Users/TysonWu/.wdm/drivers/chromedriver/80.0.3987.106/mac64/chromedriver.zip\n"
     ]
    }
   ],
   "source": [
    "url = 'https://www.sofascore.com/aston-villa-leicester-city/GP'\n",
    "url = 'https://www.sofascore.com/genclerbirligi-antalyaspor/glbscgd'\n",
    "driver = initialize(url)"
   ]
  },
  {
   "cell_type": "markdown",
   "metadata": {},
   "source": [
    "0. Run schedule_crawler.py to get event_id, hkjc_url, est. of game_starting_time -> schedule.csv\n",
    "0. Manual input sofascore_url in schedule.csv \n",
    "0. Schedule run of this script (ie. * * * * * python sofascore_timer.py --event_id <event_id>)\n",
    "1. Auto crontab call this script with event_id as arg\n",
    "2. This script finds hkjc_url from event_id from schedule.csv\n",
    "3. This script calls crawler.py with hkjc_url as arg\n",
    "4. While crawler crawls, this script loop through time from sofascore_url\n",
    "5. When this script detects a reach of a minute (eg. 70') then enable signal check\n",
    "6. Crawler.py ends when hkjc corner not available; This script ends when 'Ended' is shown in timer\n",
    "7. For analysis, merge the sofascore_timer.csv with hkjc data to get accurate timepoints\n",
    "\n",
    "Problem:\n",
    "- Will this script terminate if it is a game with no corner data?"
   ]
  },
  {
   "cell_type": "code",
   "execution_count": 32,
   "metadata": {},
   "outputs": [
    {
     "name": "stdout",
     "output_type": "stream",
     "text": [
      "Ended\n"
     ]
    }
   ],
   "source": [
    "event_id = '20200309MON11'\n",
    "row = pd.DataFrame({'event_id': event_id, \n",
    "                    'game_start': None,\n",
    "                    'ht_start': None,\n",
    "                    'ht_end': None,\n",
    "                    'game_end': None},index=[0])\n",
    "start_trigger = False\n",
    "ht_trigger = False\n",
    "\n",
    "while(True):\n",
    "    timer = driver.find_element_by_class_name('js-details-component-startTime-container')\n",
    "    time_text = timer.text.split(\"\\n\")[-1]\n",
    "    print(time_text)\n",
    "    if (time_text.startswith('0')) & (start_trigger==False) :\n",
    "        start_trigger = True\n",
    "        row['game_start'] = datetime.strftime(datetime.now(), \"%Y-%m-%d %H:%M:%S\")\n",
    "    if ('Halftime' in time_text) & (ht_trigger==False):\n",
    "        ht_trigger = True\n",
    "        row['ht_start'] = datetime.strftime(datetime.now(), \"%Y-%m-%d %H:%M:%S\")\n",
    "    if ('Halftime' not in time_text) & (ht_trigger==True):\n",
    "        row['ht_end'] = datetime.strftime(datetime.now(), \"%Y-%m-%d %H:%M:%S\")\n",
    "        \n",
    "    # if reach a certain time, enable signal check\n",
    "\n",
    "    if 'End' in time_text:\n",
    "        row['game_end'] = datetime.strftime(datetime.now(), \"%Y-%m-%d %H:%M:%S\")\n",
    "        break\n",
    "    time.sleep(5)\n",
    "row.to_csv('sofascore_timer.csv', index=False, mode='a')"
   ]
  },
  {
   "cell_type": "markdown",
   "metadata": {},
   "source": [
    "## Find other statistics"
   ]
  },
  {
   "cell_type": "code",
   "execution_count": 113,
   "metadata": {},
   "outputs": [
    {
     "name": "stdout",
     "output_type": "stream",
     "text": [
      "\n",
      "Looking for [chromedriver 80.0.3987.106 mac64] driver in cache \n",
      "File found in cache by path [/Users/TysonWu/.wdm/drivers/chromedriver/80.0.3987.106/mac64/chromedriver]\n"
     ]
    },
    {
     "data": {
      "text/html": [
       "<div>\n",
       "<style scoped>\n",
       "    .dataframe tbody tr th:only-of-type {\n",
       "        vertical-align: middle;\n",
       "    }\n",
       "\n",
       "    .dataframe tbody tr th {\n",
       "        vertical-align: top;\n",
       "    }\n",
       "\n",
       "    .dataframe thead th {\n",
       "        text-align: right;\n",
       "    }\n",
       "</style>\n",
       "<table border=\"1\" class=\"dataframe\">\n",
       "  <thead>\n",
       "    <tr style=\"text-align: right;\">\n",
       "      <th></th>\n",
       "      <th>timestamp</th>\n",
       "      <th>ball possession_h</th>\n",
       "      <th>ball possession_a</th>\n",
       "      <th>total shots_h</th>\n",
       "      <th>total shots_a</th>\n",
       "      <th>shots on target_h</th>\n",
       "      <th>shots on target_a</th>\n",
       "      <th>shots off target_h</th>\n",
       "      <th>shots off target_a</th>\n",
       "      <th>blocked shots_h</th>\n",
       "      <th>...</th>\n",
       "      <th>duels won_h</th>\n",
       "      <th>duels won_a</th>\n",
       "      <th>aerials won_h</th>\n",
       "      <th>aerials won_a</th>\n",
       "      <th>tackles_h</th>\n",
       "      <th>tackles_a</th>\n",
       "      <th>interceptions_h</th>\n",
       "      <th>interceptions_a</th>\n",
       "      <th>clearances_h</th>\n",
       "      <th>clearances_a</th>\n",
       "    </tr>\n",
       "  </thead>\n",
       "  <tbody>\n",
       "    <tr>\n",
       "      <th>0</th>\n",
       "      <td>2020-03-11 01:33:56</td>\n",
       "      <td>64%</td>\n",
       "      <td>36%</td>\n",
       "      <td>15</td>\n",
       "      <td>4</td>\n",
       "      <td>7</td>\n",
       "      <td>1</td>\n",
       "      <td>7</td>\n",
       "      <td>3</td>\n",
       "      <td>1</td>\n",
       "      <td>...</td>\n",
       "      <td>62</td>\n",
       "      <td>58</td>\n",
       "      <td>18</td>\n",
       "      <td>15</td>\n",
       "      <td>24</td>\n",
       "      <td>23</td>\n",
       "      <td>8</td>\n",
       "      <td>10</td>\n",
       "      <td>12</td>\n",
       "      <td>22</td>\n",
       "    </tr>\n",
       "  </tbody>\n",
       "</table>\n",
       "<p>1 rows × 53 columns</p>\n",
       "</div>"
      ],
      "text/plain": [
       "             timestamp ball possession_h ball possession_a total shots_h  \\\n",
       "0  2020-03-11 01:33:56               64%               36%            15   \n",
       "\n",
       "  total shots_a shots on target_h shots on target_a shots off target_h  \\\n",
       "0             4                 7                 1                  7   \n",
       "\n",
       "  shots off target_a blocked shots_h  ... duels won_h duels won_a  \\\n",
       "0                  3               1  ...          62          58   \n",
       "\n",
       "  aerials won_h aerials won_a tackles_h tackles_a interceptions_h  \\\n",
       "0            18            15        24        23               8   \n",
       "\n",
       "  interceptions_a clearances_h clearances_a  \n",
       "0              10           12           22  \n",
       "\n",
       "[1 rows x 53 columns]"
      ]
     },
     "execution_count": 113,
     "metadata": {},
     "output_type": "execute_result"
    }
   ],
   "source": [
    "import pandas as pd\n",
    "import re\n",
    "from bs4 import BeautifulSoup\n",
    "from datetime import datetime, timedelta\n",
    "from selenium import webdriver\n",
    "from webdriver_manager.chrome import ChromeDriverManager\n",
    "\n",
    "\n",
    "def initialize(url, load_sleep=10):\n",
    "    driver = webdriver.Chrome(ChromeDriverManager().install())\n",
    "    driver.get(url)\n",
    "    time.sleep(load_sleep)  # to let the HTML load\n",
    "    return driver\n",
    "\n",
    "\n",
    "def clean(s):\n",
    "    s = re.sub('\\n','',s)\n",
    "    return s\n",
    "\n",
    "\n",
    "def reshaping(home, i, away): # list of 3: [stat, incident, stat]\n",
    "    i = i.lower()\n",
    "    return {i+'_h': home, i+'_a': away}\n",
    "\n",
    "\n",
    "def scrap_stat(driver):\n",
    "    stat_all = driver.find_element_by_id('statistics-period-ALL')\n",
    "    soup = BeautifulSoup(stat_all.get_attribute('innerHTML'),'html.parser')\n",
    "    content = [clean(x).strip() for x in soup.find_all(text=True) if x != '\\n']\n",
    "    iterator = iter(content)\n",
    "    df_dict = {'timestamp': datetime.strftime(datetime.now(),'%Y-%m-%d %H:%M:%S')}\n",
    "    for i in iterator:\n",
    "        df_dict.update(reshaping(i, next(iterator), next(iterator)))\n",
    "    df = pd.DataFrame(df_dict, index=[0])\n",
    "    return df\n",
    "\n",
    "\n",
    "url = 'https://www.sofascore.com/aston-villa-leicester-city/GP'\n",
    "driver = initialize(url)\n",
    "while(True):\n",
    "    scrap_stat(driver)"
   ]
  },
  {
   "cell_type": "code",
   "execution_count": null,
   "metadata": {},
   "outputs": [],
   "source": []
  }
 ],
 "metadata": {
  "kernelspec": {
   "display_name": "Python 3",
   "language": "python",
   "name": "python3"
  },
  "language_info": {
   "codemirror_mode": {
    "name": "ipython",
    "version": 3
   },
   "file_extension": ".py",
   "mimetype": "text/x-python",
   "name": "python",
   "nbconvert_exporter": "python",
   "pygments_lexer": "ipython3",
   "version": "3.7.6"
  }
 },
 "nbformat": 4,
 "nbformat_minor": 4
}
